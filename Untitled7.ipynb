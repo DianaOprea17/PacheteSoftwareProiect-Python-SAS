{
  "nbformat": 4,
  "nbformat_minor": 0,
  "metadata": {
    "colab": {
      "provenance": []
    },
    "kernelspec": {
      "name": "python3",
      "display_name": "Python 3"
    },
    "language_info": {
      "name": "python"
    }
  },
  "cells": [
    {
      "cell_type": "code",
      "execution_count": null,
      "metadata": {
        "id": "Y2Ybc2PVtqfb"
      },
      "outputs": [],
      "source": []
    },
    {
      "cell_type": "code",
      "source": [
        "from google.colab import drive\n",
        "drive.mount('/content/drive')"
      ],
      "metadata": {
        "colab": {
          "base_uri": "https://localhost:8080/"
        },
        "id": "sh43T2Y7tuTL",
        "outputId": "7e2563b7-db2a-401e-cdb0-ed0e8a76b90e"
      },
      "execution_count": null,
      "outputs": [
        {
          "output_type": "stream",
          "name": "stdout",
          "text": [
            "Drive already mounted at /content/drive; to attempt to forcibly remount, call drive.mount(\"/content/drive\", force_remount=True).\n"
          ]
        }
      ]
    },
    {
      "cell_type": "markdown",
      "source": [
        "Calculează media sumelor împrumutate pentru fiecare categorie de împrumut (Loan Category) din setul de date, folosind liste și dicționare pentru stocarea și procesarea datelor."
      ],
      "metadata": {
        "id": "Gi9Um2eSXmq-"
      }
    },
    {
      "cell_type": "code",
      "source": [
        "import pandas as pd\n",
        "dataset = pd.read_csv('/content/drive/MyDrive/Pachete Proiect/dataset.csv')\n",
        "sums = {}\n",
        "counts = {}\n",
        "for index, row in dataset.iterrows():\n",
        "    category = row[\"Loan Category\"]\n",
        "    amount = row[\"Loan Amount\"]\n",
        "    if category in sums:\n",
        "        sums[category] += amount\n",
        "        counts[category] += 1\n",
        "    else:\n",
        "        sums[category] = amount\n",
        "        counts[category] = 1\n",
        "averages = {category: sums[category] / counts[category] for category in sums}\n",
        "for category, average in averages.items():\n",
        "    print(f\"Media împrumuturilor pentru categoria '{category}': {average}\")"
      ],
      "metadata": {
        "id": "Vj9Eb-S7yrVn",
        "colab": {
          "base_uri": "https://localhost:8080/"
        },
        "outputId": "902db9a3-ce8d-48de-dac6-90c997d4008d"
      },
      "execution_count": null,
      "outputs": [
        {
          "output_type": "stream",
          "name": "stdout",
          "text": [
            "Media împrumuturilor pentru categoria 'Debt Consolidation': 16919.555145803457\n",
            "Media împrumuturilor pentru categoria 'Credit Card Consolidation': 16809.15797879136\n",
            "Media împrumuturilor pentru categoria 'Home Loan': 16787.474260235103\n",
            "Media împrumuturilor pentru categoria 'Credit Loan': 18420.9375\n",
            "Media împrumuturilor pentru categoria 'Green loan': 17758.355555555554\n",
            "Media împrumuturilor pentru categoria 'nan': 16620.41466395112\n",
            "Media împrumuturilor pentru categoria 'Moving and relocation': 16576.662420382167\n",
            "Media împrumuturilor pentru categoria 'Medical Loan': 17134.5\n",
            "Media împrumuturilor pentru categoria 'Refinancing': 16913.309859154928\n",
            "Media împrumuturilor pentru categoria 'Lending Club': 14662.90625\n",
            "Media împrumuturilor pentru categoria 'Major purchase': 16698.963039014372\n",
            "Media împrumuturilor pentru categoria 'Vacation': 15628.780701754386\n",
            "Media împrumuturilor pentru categoria 'Business': 15894.868852459016\n",
            "Media împrumuturilor pentru categoria 'Personal Loan': 16547.346153846152\n",
            "Media împrumuturilor pentru categoria 'Loan 1': 18644.761904761905\n",
            "Media împrumuturilor pentru categoria 'Car Loan': 16685.5\n",
            "Media împrumuturilor pentru categoria 'Freedom': 18277.555555555555\n",
            "Media împrumuturilor pentru categoria 'Personal loan': 16849.0\n",
            "Media împrumuturilor pentru categoria 'Personal': 16480.88\n",
            "Media împrumuturilor pentru categoria 'Bill Consolidation': 16034.731707317073\n",
            "Media împrumuturilor pentru categoria 'vacation': 18222.2\n",
            "Media împrumuturilor pentru categoria 'MYLOAN': 20136.133333333335\n",
            "Media împrumuturilor pentru categoria 'My Loan': 18401.458333333332\n",
            "Media împrumuturilor pentru categoria 'Loan': 21132.0\n",
            "Media împrumuturilor pentru categoria 'Wedding Loan': 14463.333333333334\n",
            "Media împrumuturilor pentru categoria 'personal': 14542.76923076923\n",
            "Media împrumuturilor pentru categoria 'Pay Off': 16626.133333333335\n",
            "Media împrumuturilor pentru categoria 'Loan Consolidation': 18039.428571428572\n",
            "Media împrumuturilor pentru categoria 'Lending loan': 15382.692307692309\n",
            "Media împrumuturilor pentru categoria 'relief': 16851.88888888889\n",
            "Media împrumuturilor pentru categoria 'loan1': 15674.076923076924\n",
            "Media împrumuturilor pentru categoria 'Getting Ahead': 19365.0\n"
          ]
        }
      ]
    },
    {
      "cell_type": "markdown",
      "source": [
        "Calculează numărul de împrumuturi pentru fiecare tip de proprietate (Home Ownership) din setul de date, folosind liste și metode specifice acestora.\n"
      ],
      "metadata": {
        "id": "Bb7pnupXXsyA"
      }
    },
    {
      "cell_type": "code",
      "source": [
        "ownership_counts = []\n",
        "for ownership in dataset['Home Ownership'].unique():\n",
        "    count = len(dataset[dataset['Home Ownership'] == ownership])\n",
        "    ownership_counts.append((ownership, count))\n",
        "for ownership, count in ownership_counts:\n",
        "    print(f\"Numărul de împrumuturi pentru tipul de proprietate '{ownership}': {count}\")"
      ],
      "metadata": {
        "colab": {
          "base_uri": "https://localhost:8080/"
        },
        "id": "kkLoUbxV3ifn",
        "outputId": "64b03293-5068-4a1b-d4e1-05d0d262a411"
      },
      "execution_count": null,
      "outputs": [
        {
          "output_type": "stream",
          "name": "stdout",
          "text": [
            "Numărul de împrumuturi pentru tipul de proprietate 'RENT': 24150\n",
            "Numărul de împrumuturi pentru tipul de proprietate 'MORTGAGE': 36351\n",
            "Numărul de împrumuturi pentru tipul de proprietate 'OWN': 6962\n"
          ]
        }
      ]
    },
    {
      "cell_type": "markdown",
      "source": [
        "Calculează numărul total de împrumuturi și suma totală a dobânzilor pentru fiecare categorie de aplicație(Application Type). Folosește seturi pentru a stoca tipurile unice de tip aplicație și tupluri pentru a stoca rezultatele calculate.\n"
      ],
      "metadata": {
        "id": "DNXs-tVcXwC7"
      }
    },
    {
      "cell_type": "code",
      "source": [
        "unique_app_types = set()\n",
        "for app_type in dataset['Application Type'].unique():\n",
        "    unique_app_types.add(app_type)\n",
        "app_type_stats = []\n",
        "for app_type in unique_app_types:\n",
        "    subset = dataset[dataset['Application Type'] == app_type]\n",
        "    total_loans = len(subset)\n",
        "    total_interest = subset['Interest Rate'].sum()\n",
        "    app_type_stats.append((app_type, total_loans, total_interest))\n",
        "for app_type, total_loans, total_interest in app_type_stats:\n",
        "    print(f\"Tipul de aplicație '{app_type}':\")\n",
        "    print(f\"Numărul total de împrumuturi: {total_loans}\")\n",
        "    print(f\"Suma totală a dobânzilor: {total_interest}\")"
      ],
      "metadata": {
        "colab": {
          "base_uri": "https://localhost:8080/"
        },
        "id": "foBwCAuD5ZjA",
        "outputId": "20595e67-0ff8-4616-ce27-b178da349f6e"
      },
      "execution_count": null,
      "outputs": [
        {
          "output_type": "stream",
          "name": "stdout",
          "text": [
            "Tipul de aplicație 'INDIVIDUAL':\n",
            "Numărul total de împrumuturi: 67340\n",
            "Suma totală a dobânzilor: 797585.5568338459\n",
            "Tipul de aplicație 'JOINT':\n",
            "Numărul total de împrumuturi: 123\n",
            "Suma totală a dobânzilor: 1478.644121446\n"
          ]
        }
      ]
    },
    {
      "cell_type": "markdown",
      "source": [
        "Calculează numărul de împrumuturi cu dobândă peste 10%, valoarea maximă și minimă a dobânzilor pentru fiecare categorie de împrumut (Loan Category). Excludeți din calcul categoria de împrumut care are valoarea NaN.\n"
      ],
      "metadata": {
        "id": "QvSIuV27X2Li"
      }
    },
    {
      "cell_type": "code",
      "source": [
        "dataset = dataset.dropna(subset=['Loan Category'])\n",
        "unique_loan_categories = set(dataset['Loan Category'])\n",
        "for loan_category in unique_loan_categories:\n",
        "    subset = dataset[dataset['Loan Category'] == loan_category]\n",
        "\n",
        "    high_interest_loans = len(subset[subset['Interest Rate'] > 10])\n",
        "    max_interest = subset['Interest Rate'].max()\n",
        "    min_interest = subset['Interest Rate'].min()\n",
        "\n",
        "    print(f\"Categoria de împrumut '{loan_category}':\")\n",
        "    print(f\"Numărul de împrumuturi cu dobândă peste 10%: {high_interest_loans}\")\n",
        "    print(f\"Valoarea maximă a dobânzilor: {max_interest:.2f}%\")\n",
        "    print(f\"Valoarea minimă a dobânzilor: {min_interest:.2f}%\")"
      ],
      "metadata": {
        "id": "0y5m9xx78S6M"
      },
      "execution_count": null,
      "outputs": []
    },
    {
      "cell_type": "markdown",
      "source": [
        "Gruparea setului de date după categoria de împrumut și calcularea statisticilor"
      ],
      "metadata": {
        "id": "e00lFk8nB0s5"
      }
    },
    {
      "cell_type": "code",
      "source": [
        "agg_funcs = {\n",
        "    'Total Received Interest': [\n",
        "        lambda x: (x > 1000).sum() / len(x) * 100,\n",
        "        'mean'\n",
        "    ],\n",
        "    'Total Received Late Fee': [\n",
        "        lambda x: (x > 500).sum() / len(x) * 100,\n",
        "        'mean'\n",
        "    ],\n",
        "    'Interest Rate': [\n",
        "        lambda x: (x > 10).sum() / len(x) * 100,\n",
        "        lambda x: ((x >= 5) & (x <= 10)).sum() / len(x) * 100,\n",
        "        lambda x: (x < 5).sum() / len(x) * 100,\n",
        "        'mean'\n",
        "    ]\n",
        "}\n",
        "grouped_stats = dataset.groupby('Loan Category').agg(agg_funcs)\n",
        "grouped_stats.columns = [\n",
        "    'High Received Interest %', 'Mean Received Interest',\n",
        "    'High Received Late Fee %', 'Mean Received Late Fee',\n",
        "    'High Interest %', 'Medium Interest %', 'Low Interest %', 'Mean Interest'\n",
        "]\n",
        "print(\"Statistici complexe pentru dobânzi și taxe de întârziere, grupate după categoria de împrumut:\")\n",
        "print(grouped_stats)"
      ],
      "metadata": {
        "id": "c6CieTVQAiUv"
      },
      "execution_count": null,
      "outputs": []
    },
    {
      "cell_type": "markdown",
      "source": [
        "Filtrarea setului de date pe baza unor condiții folosind structuri condiționale:"
      ],
      "metadata": {
        "id": "lFWztMjiYJKQ"
      }
    },
    {
      "cell_type": "code",
      "source": [
        "high_balance_loans = dataset.loc[dataset['Total Current Balance'] > 5000]\n",
        "high_balance_percentage = (len(high_balance_loans) / len(dataset)) * 100\n",
        "mean_high_balance = high_balance_loans['Total Current Balance'].mean()\n",
        "\n",
        "low_balance_loans = dataset.loc[dataset['Total Current Balance'] <= 5000]\n",
        "low_balance_percentage = (len(low_balance_loans) / len(dataset)) * 100\n",
        "mean_low_balance = low_balance_loans['Total Current Balance'].mean()\n",
        "\n",
        "high_open_account_loans = dataset.loc[dataset['Open Account'] > 15]\n",
        "high_open_account_percentage = (len(high_open_account_loans) / len(dataset)) * 100\n",
        "mean_high_open_account = high_open_account_loans['Open Account'].mean()\n",
        "\n",
        "recovery_loans = dataset.loc[dataset['Recoveries'] > 0]\n",
        "recovery_percentage = (len(recovery_loans) / len(dataset)) * 100\n",
        "mean_recovery = recovery_loans['Recoveries'].mean()\n",
        "\n",
        "print(f\"Procentul de împrumuturi cu sold curent peste 5000: {high_balance_percentage:.2f}%\")\n",
        "print(f\"Media soldului curent pentru aceste împrumuturi: {mean_high_balance:.2f}\")\n",
        "print(f\"Procentul de împrumuturi cu sold curent sub 5000: {low_balance_percentage:.2f}%\")\n",
        "print(f\"Media soldului curent pentru aceste împrumuturi: {mean_low_balance:.2f}\")\n",
        "print(f\"Procentul de împrumuturi cu un total al conturilor deschise mai mare de 15:{high_open_account_percentage:.2f}%\")\n",
        "print(f\"Media totalului conturilor deschise pentru aceste împrumuturi: {mean_high_open_account:.2f}\")\n",
        "print(f\"Procentul de împrumuturi cu recuperări: {recovery_percentage:.2f}%\")\n",
        "print(f\"Media recuperărilor pentru aceste împrumuturi: {mean_recovery:.2f}\")\n"
      ],
      "metadata": {
        "id": "v9PuqGh1EYy2"
      },
      "execution_count": null,
      "outputs": []
    },
    {
      "cell_type": "markdown",
      "source": [
        "Calculați numărul de zile sub 10 și procentajul acestora față de totalul de zile pentru coloana 'Days since last outflow' în funcție de categoria de împrumut. Folosiți structuri repetitive."
      ],
      "metadata": {
        "id": "camWBHP7YS_G"
      }
    },
    {
      "cell_type": "code",
      "source": [
        "column_to_analyze = 'Days since last outflow'\n",
        "results = {}\n",
        "\n",
        "for category in dataset['Loan Category'].unique():\n",
        "    category_data = dataset.loc[dataset['Loan Category'] == category]\n",
        "    if category_data[column_to_analyze].dtype == 'object':\n",
        "        category_data[column_to_analyze] = category_data[column_to_analyze].str.extract('(\\d+)',\n",
        "                                                                                        expand=False).astype(float)\n",
        "    category_data = category_data.dropna(subset=[column_to_analyze])\n",
        "\n",
        "    below_10 = (category_data[column_to_analyze] < 10).sum()\n",
        "    total_days = len(category_data[column_to_analyze])\n",
        "    below_10_percentage = (below_10 / total_days) * 100\n",
        "    sub_10_stats = {\n",
        "        f'Numărul de zile sub 10 pentru {column_to_analyze}': below_10,\n",
        "        f'Procentul zilelor sub 10 pentru {column_to_analyze}': below_10_percentage\n",
        "    }\n",
        "    results[category] = sub_10_stats\n",
        "\n",
        "for category, stats in results.items():\n",
        "    print(f\"Categoria: {category}\")\n",
        "    for stat, value in stats.items():\n",
        "        print(f\"{stat}: {value:.2f}\" if '%' in stat else f\"{stat}: {value}\")\n",
        "    print(\"-\" * 40)\n"
      ],
      "metadata": {
        "id": "_NMbDdpDHH16"
      },
      "execution_count": null,
      "outputs": []
    },
    {
      "cell_type": "code",
      "source": [
        "import numpy as np\n",
        "import matplotlib.pyplot as plt\n",
        "import matplotlib.mlab as mlab\n",
        "import matplotlib"
      ],
      "metadata": {
        "id": "fU_WEzqWRk67"
      },
      "execution_count": null,
      "outputs": []
    },
    {
      "cell_type": "markdown",
      "source": [
        "Modificare datelor din 'dataset'."
      ],
      "metadata": {
        "id": "paFQpMq1Qf3O"
      }
    },
    {
      "cell_type": "code",
      "source": [
        "dataset1 = pd.read_csv('/content/drive/MyDrive/Pachete Proiect/dataset.csv')\n",
        "coloane_de_elim = ['Funded Amount Investor', 'Revolving Balance', 'Revolving Utilities', 'Collection Recovery Fee', 'Collection 12 months Medical',\n",
        "      'Total Revolving Credit Limit', 'Grade', 'Internal Customer Segment', 'Application Type', 'Payment Plan', 'Sub Grade']\n",
        "dataset1.drop(columns = coloane_de_elim, inplace = True)\n",
        "print(dataset1.columns)\n"
      ],
      "metadata": {
        "id": "_E5UnNPaQg7W",
        "colab": {
          "base_uri": "https://localhost:8080/"
        },
        "outputId": "eaf9776c-813a-43f7-f7ec-afca900aeccb"
      },
      "execution_count": null,
      "outputs": [
        {
          "output_type": "stream",
          "name": "stdout",
          "text": [
            "Index(['ID', 'Loan Amount', 'Funded Amount', 'Interest Rate', 'Adjusted Rate',\n",
            "       'Employment Duration', 'Debit to Income', 'Open Account',\n",
            "       'Total Accounts', 'Total Received Interest', 'Total Received Late Fee',\n",
            "       'Recoveries', 'Last week Pay', 'Accounts Delinquent',\n",
            "       'Total Collection Amount', 'Total Current Balance',\n",
            "       'Total Savings Balance', 'Total annual fees', 'Days since last inflow',\n",
            "       'Days since last outflow', 'Home Ownership', 'Verification Status',\n",
            "       'Loan Category', 'Initial List Status', 'Loan Status'],\n",
            "      dtype='object')\n"
          ]
        }
      ]
    },
    {
      "cell_type": "code",
      "source": [
        "ds = dataset1.copy()\n",
        "print(ds['Verification Status'].head(10))\n",
        "\n",
        "ds['Verification Status'] = ds['Verification Status'].replace('Source Verified', 'Verified')\n",
        "print(ds['Verification Status'].head(10))"
      ],
      "metadata": {
        "id": "x8n14EmFdYG8",
        "colab": {
          "base_uri": "https://localhost:8080/"
        },
        "outputId": "1a3e6b40-665b-414f-807d-f1401e00e45c"
      },
      "execution_count": null,
      "outputs": [
        {
          "output_type": "stream",
          "name": "stdout",
          "text": [
            "0           Verified\n",
            "1    Source Verified\n",
            "2    Source Verified\n",
            "3    Source Verified\n",
            "4       Not Verified\n",
            "5       Not Verified\n",
            "6    Source Verified\n",
            "7    Source Verified\n",
            "8    Source Verified\n",
            "9    Source Verified\n",
            "Name: Verification Status, dtype: object\n",
            "0        Verified\n",
            "1        Verified\n",
            "2        Verified\n",
            "3        Verified\n",
            "4    Not Verified\n",
            "5    Not Verified\n",
            "6        Verified\n",
            "7        Verified\n",
            "8        Verified\n",
            "9        Verified\n",
            "Name: Verification Status, dtype: object\n"
          ]
        }
      ]
    },
    {
      "cell_type": "markdown",
      "source": [
        "Folosind loc, măriți cu 1000 suma dată clientului ca împrumut (Funded Amount), dacă suma solicitată (Loan Amount) este mai mare de 25000."
      ],
      "metadata": {
        "id": "tOs0DG1uzHOR"
      }
    },
    {
      "cell_type": "code",
      "source": [
        "ds1 = dataset1.copy()\n",
        "print(ds1[['Loan Amount', 'Funded Amount']].head(10))\n",
        "\n",
        "ds1.loc[(ds1['Loan Amount'] > 25000), 'Funded Amount'] += 1000\n",
        "print(ds1[['Loan Amount', 'Funded Amount']].head(10))\n"
      ],
      "metadata": {
        "colab": {
          "base_uri": "https://localhost:8080/"
        },
        "id": "NY6i_F0It9lF",
        "outputId": "83913e53-d83d-4839-982f-e9915eecfcae"
      },
      "execution_count": null,
      "outputs": [
        {
          "output_type": "stream",
          "name": "stdout",
          "text": [
            "   Loan Amount  Funded Amount\n",
            "0         2703           6073\n",
            "1        30300          32533\n",
            "2        28476          16279\n",
            "3        29391          22027\n",
            "4        14100          23352\n",
            "5        30004          10491\n",
            "6        11589          11180\n",
            "7        27814          17520\n",
            "8        11130          10223\n",
            "9         7278          26196\n",
            "   Loan Amount  Funded Amount\n",
            "0         2703           6073\n",
            "1        30300          33533\n",
            "2        28476          17279\n",
            "3        29391          23027\n",
            "4        14100          23352\n",
            "5        30004          11491\n",
            "6        11589          11180\n",
            "7        27814          18520\n",
            "8        11130          10223\n",
            "9         7278          26196\n"
          ]
        }
      ]
    },
    {
      "cell_type": "markdown",
      "source": [
        "Folosind iloc, afișați înregistrările pentru care statusul verificării este încă ‘Not Verified’."
      ],
      "metadata": {
        "id": "j5RftnrfzLrs"
      }
    },
    {
      "cell_type": "code",
      "source": [
        "not_verif = dataset1['Verification Status'] == 'Not Verified'\n",
        "records = dataset1.iloc[not_verif.values]\n",
        "print(records.loc[:, ['ID','Total Accounts', 'Verification Status']])"
      ],
      "metadata": {
        "colab": {
          "base_uri": "https://localhost:8080/"
        },
        "id": "_kSd6g4izGKo",
        "outputId": "80c2731f-1cf2-4cc0-d6fd-fead6e0eab54"
      },
      "execution_count": null,
      "outputs": [
        {
          "output_type": "stream",
          "name": "stdout",
          "text": [
            "             ID  Total Accounts Verification Status\n",
            "4      14354669              36        Not Verified\n",
            "5      50509046              34        Not Verified\n",
            "17     44295986              11        Not Verified\n",
            "23     32389813              15        Not Verified\n",
            "27     27379187              18        Not Verified\n",
            "...         ...             ...                 ...\n",
            "67438  64968645              19        Not Verified\n",
            "67444  16774303              20        Not Verified\n",
            "67445  33796416              18        Not Verified\n",
            "67448   7648951              12        Not Verified\n",
            "67462  65443173              18        Not Verified\n",
            "\n",
            "[16349 rows x 3 columns]\n"
          ]
        }
      ]
    },
    {
      "cell_type": "markdown",
      "source": [
        "Grupați datele după statusul lor de verificare și afișați numărul de înregistrări pentru fiecare categorie obținută."
      ],
      "metadata": {
        "id": "xbhK6V_P77GN"
      }
    },
    {
      "cell_type": "code",
      "source": [
        "verif_grupate = dataset1.groupby('Verification Status').count()\n",
        "print(verif_grupate)"
      ],
      "metadata": {
        "id": "3MXwaVYn775t"
      },
      "execution_count": null,
      "outputs": []
    },
    {
      "cell_type": "markdown",
      "source": [
        "Grupați înregistrările după categoria de împrumut și calculați media totală anuală a taxelor pentru grupul ‘Home Loan’ obținut."
      ],
      "metadata": {
        "id": "T8cpbqkxAkkd"
      }
    },
    {
      "cell_type": "code",
      "source": [
        "loan_group = dataset1.groupby('Loan Category')\n",
        "home_loan_mean = loan_group.get_group('Home Loan')['Total annual fees'].mean()\n",
        "\n",
        "print(\"Media totala:\", home_loan_mean)\n",
        "print()\n",
        "home_loan_records = loan_group.get_group('Home Loan')\n",
        "print(home_loan_records.loc[:, ['ID', 'Total annual fees', 'Loan Category']])\n"
      ],
      "metadata": {
        "colab": {
          "base_uri": "https://localhost:8080/"
        },
        "id": "dXJHPNjQ96P7",
        "outputId": "ca09735b-6244-4782-cb3c-6f425cc8d3be"
      },
      "execution_count": null,
      "outputs": [
        {
          "output_type": "stream",
          "name": "stdout",
          "text": [
            "Media totala: 2561.779801378192\n",
            "\n",
            "             ID  Total annual fees Loan Category\n",
            "6      32737431            2538.47     Home Loan\n",
            "56      3518998            2537.83     Home Loan\n",
            "86     19444023            2542.27     Home Loan\n",
            "117    59906417            2532.24     Home Loan\n",
            "168     4308430            2543.07     Home Loan\n",
            "...         ...                ...           ...\n",
            "67295   1604649            2546.35     Home Loan\n",
            "67298   5783199            2534.89     Home Loan\n",
            "67342   2970430            2536.01     Home Loan\n",
            "67368  41078942            2536.57     Home Loan\n",
            "67445  33796416            2542.25     Home Loan\n",
            "\n",
            "[2467 rows x 3 columns]\n"
          ]
        }
      ]
    },
    {
      "cell_type": "markdown",
      "source": [
        "Reprezentați grafic:\n",
        "      \n",
        "      frecvența statusului verificărilor din coloana ‘Verification Status’.\n",
        "      \n",
        "      frecvența numărului de conturi deschise de fiecare client.\n"
      ],
      "metadata": {
        "id": "6zaZEDye7IFo"
      }
    },
    {
      "cell_type": "code",
      "source": [
        "verifications = dataset1['Verification Status'].value_counts()\n",
        "\n",
        "verifications.plot(kind='bar')\n",
        "plt.xlabel('Verification Status')\n",
        "plt.ylabel('Frequency')\n",
        "plt.title('Frequency of Verification Status')\n",
        "plt.show()"
      ],
      "metadata": {
        "colab": {
          "base_uri": "https://localhost:8080/",
          "height": 562
        },
        "id": "S_X8hR-w3Glp",
        "outputId": "a34d7c13-792a-4f0b-bbd8-1aab98b06e1b"
      },
      "execution_count": null,
      "outputs": [
        {
          "output_type": "display_data",
          "data": {
            "text/plain": [
              "<Figure size 640x480 with 1 Axes>"
            ],
            "image/png": "[encoded data removed]"
          },
          "metadata": {}
        }
      ]
    },
    {
      "cell_type": "code",
      "source": [
        "dataset1.plot(y=\"Open Account\", kind='hist')\n",
        "plt.show()"
      ],
      "metadata": {
        "colab": {
          "base_uri": "https://localhost:8080/",
          "height": 430
        },
        "id": "7-qQg77j4vYV",
        "outputId": "ddedc646-a3de-4e3d-beed-3e8b3c96b7af"
      },
      "execution_count": null,
      "outputs": [
        {
          "output_type": "display_data",
          "data": {
            "text/plain": [
              "<Figure size 640x480 with 1 Axes>"
            ],
            "image/png": "[encoded data removed]"
          },
          "metadata": {}
        }
      ]
    }
  ]
}